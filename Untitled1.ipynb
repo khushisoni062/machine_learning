{
 "cells": [
  {
   "cell_type": "markdown",
   "id": "65be6d7f",
   "metadata": {},
   "source": [
    "# from selenium import webdriver\n",
    "from bs4 import BeautifulSoup\n",
    "\n",
    "# Set up the webdriver (you may need to specify the path to your webdriver executable)\n",
    "driver = webdriver.Chrome()\n",
    "\n",
    "# Load the webpage\n",
    "driver.get('https://www.youtube.com/c/GeeksforGeeksVideos/videos')\n",
    "\n",
    "# Wait for the page to load (you may need to adjust the time)\n",
    "driver.implicitly_wait(10)\n",
    "\n",
    "# Get the page source after it's loaded\n",
    "html_content = driver.page_source\n",
    "\n",
    "# Close the browser\n",
    "driver.quit()\n",
    "\n",
    "# Parse the HTML content with BeautifulSoup\n",
    "soup = BeautifulSoup(html_content, 'html.parser')\n",
    "\n",
    "# Find all elements with the specified tag and class\n",
    "video_titles = soup.find_all('yt-formatted-string', class_='style-scope ytd-rich-grid-media')\n",
    "\n",
    "# Extract and print the titles\n",
    "for title in video_titles:\n",
    "    print(title.text)\n"
   ]
  },
  {
   "cell_type": "code",
   "execution_count": 1,
   "id": "3b243e6e",
   "metadata": {},
   "outputs": [],
   "source": [
    "from selenium import webdriver\n",
    "from bs4 import BeautifulSoup\n",
    "\n",
    "# Set up the webdriver (you may need to specify the path to your webdriver executable)\n",
    "driver = webdriver.Chrome()\n",
    "\n",
    "# Load the webpage\n",
    "driver.get(\"https://www.youtube.com/c/GeeksforGeeksVideos/videos'\")\n",
    "\n",
    "# Wait for the page to load (you may need to adjust the time)\n",
    "driver.implicitly_wait(10)\n",
    "\n",
    "# Get the page source after it's loaded\n",
    "html_content = driver.page_source\n",
    "\n",
    "# Close the browser\n",
    "driver.quit()\n",
    "\n",
    "# Parse the HTML content with BeautifulSoup\n",
    "soup = BeautifulSoup(html_content, 'html.parser')\n",
    "\n",
    "# Find all elements with the specified tag and class\n",
    "video_titles = soup.find_all('yt-formatted-string', class_='style-scope ytd-rich-grid-media')\n",
    "\n",
    "# Extract and print the titles\n",
    "for title in video_titles:\n",
    "    print(title.text)\n"
   ]
  },
  {
   "cell_type": "code",
   "execution_count": null,
   "id": "0d58b658",
   "metadata": {},
   "outputs": [],
   "source": []
  }
 ],
 "metadata": {
  "kernelspec": {
   "display_name": "Python 3 (ipykernel)",
   "language": "python",
   "name": "python3"
  },
  "language_info": {
   "codemirror_mode": {
    "name": "ipython",
    "version": 3
   },
   "file_extension": ".py",
   "mimetype": "text/x-python",
   "name": "python",
   "nbconvert_exporter": "python",
   "pygments_lexer": "ipython3",
   "version": "3.11.4"
  }
 },
 "nbformat": 4,
 "nbformat_minor": 5
}
