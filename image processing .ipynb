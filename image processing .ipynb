{
 "cells": [
  {
   "cell_type": "code",
   "execution_count": 2,
   "id": "ba2e497a",
   "metadata": {},
   "outputs": [],
   "source": [
    "import cv2 as cv\n",
    "import numpy as np\n",
    "import matplotlib.pyplot as plt"
   ]
  },
  {
   "cell_type": "code",
   "execution_count": 3,
   "id": "567089a9",
   "metadata": {},
   "outputs": [],
   "source": [
    "cam = cv.VideoCapture(0)\n",
    "\n",
    "while True:\n",
    "\n",
    "    _, img = cam.read()\n",
    "    frame=img[100:300,800:,:]\n",
    "    flip=cv.flip(img,1)\n",
    "\n",
    "    cv.imshow(\"Frame\",img)\n",
    "    cv.imshow(\"cropped\",frame)\n",
    "    \n",
    "    key = cv.waitKey(20)\n",
    "    \n",
    "    if (key == 27):\n",
    "        cam.release()\n",
    "        break"
   ]
  },
  {
   "cell_type": "code",
   "execution_count": null,
   "id": "8d7bdb1b",
   "metadata": {},
   "outputs": [],
   "source": [
    "cam = cv.VideoCapture(0)\n",
    "\n",
    "while True:\n",
    "\n",
    "    _, img = cam.read()\n",
    "    \n",
    "    img = cv.flip(img, 1) \n",
    "    hsv = cv.cvtColor(img, cv.COLOR_BGR2HSV)\n",
    "    \n",
    "    r = img[:,:,0]\n",
    "    g = img[:,:,1]\n",
    "    b = img[:,:,2]\n",
    "    \n",
    "    h = hsv[:,:,0]\n",
    "    s = hsv[:,:,1]\n",
    "    v = hsv[:,:,2]\n",
    "\n",
    "    \n",
    "    cv.imshow(\"Frame\",img)\n",
    "    cv.imshow(\"Red\"  ,r)\n",
    "    cv.imshow(\"Green\",g)\n",
    "    cv.imshow(\"Blue\" ,b)\n",
    "    \n",
    "    cv.imshow(\"HSV\"  ,hsv)\n",
    "    cv.imshow(\"Hue\"  ,h)\n",
    "    cv.imshow(\"Saturation\",s)\n",
    "    cv.imshow(\"Value\",v)\n",
    "    \n",
    "    key = cv.waitKey(20)\n",
    "    \n",
    "    \n",
    "    if (key == 27):\n",
    "        cam.release()\n",
    "        break"
   ]
  },
  {
   "cell_type": "code",
   "execution_count": 6,
   "id": "a176ee1b",
   "metadata": {},
   "outputs": [],
   "source": [
    "cam=cv.VideoCapture(0)\n",
    "while True:\n",
    "    _,img=cam.read()\n",
    "    img=cv.flip(img,1)\n",
    "    gray = cv.cvtColor(img, cv.COLOR_RGB2GRAY)\n",
    "    hsv  = cv.cvtColor(img, cv.COLOR_RGB2HSV)\n",
    "    cv.imshow(\"Frame\",img)\n",
    "    key=cv.waitKey(20)\n",
    "    if(key==13):\n",
    "        cv.imwrite('selfie.png',img)\n",
    "        cv.imwrite('selfie_gray.png',gray)\n",
    "        cv.imwrite('selfie_hsv.png',hsv)\n",
    "        cam.release()\n",
    "        break\n",
    "        "
   ]
  },
  {
   "cell_type": "code",
   "execution_count": 3,
   "id": "f4353373",
   "metadata": {},
   "outputs": [],
   "source": [
    "cam=cv.VideoCapture(0)\n",
    "while True:\n",
    "    _, img=cam.read()\n",
    "    img=cv.flip(img,1)\n",
    "    img=cv.rectangle(img,(400,100),(800,600),(255,0,0),3)\n",
    "    img=cv.rectangle(img,(395,95),(805,605),(0,255,0),3)\n",
    "    cv.imshow(\"frame\",img)\n",
    "    key=cv.waitKey(10)\n",
    "    if(key==27):\n",
    "        cam.release()\n",
    "        break\n",
    "    "
   ]
  },
  {
   "cell_type": "code",
   "execution_count": 3,
   "id": "7908ced4",
   "metadata": {},
   "outputs": [],
   "source": [
    "cam=cv.VideoCapture(0)\n",
    "while True:\n",
    "    _, img=cam.read()\n",
    "    img=cv.flip(img,1)\n",
    "    img=cv.circle(img,(640,360),650,(160,67,93),200)\n",
    "    \n",
    "    cv.imshow(\"frame\",img)\n",
    "    key=cv.waitKey(10)\n",
    "    if(key==27):\n",
    "        cam.release()\n",
    "        break\n",
    "    "
   ]
  },
  {
   "cell_type": "code",
   "execution_count": 7,
   "id": "4eece595",
   "metadata": {},
   "outputs": [],
   "source": [
    "cam = cv.VideoCapture(0)\n",
    "\n",
    "while True:\n",
    "\n",
    "    _, img = cam.read()\n",
    "    \n",
    "    img = cv.flip(img, 1) \n",
    "\n",
    "    img = cv.putText(img, 'Ashish Jangra',(10,30), cv.FONT_HERSHEY_PLAIN, 2, (160,67,93), 2)\n",
    "\n",
    "    cv.imshow(\"Frame\",img)\n",
    "    \n",
    "    key = cv.waitKey(10)\n",
    "    \n",
    "    if (key == 27):                                       \n",
    "        cam.release()\n",
    "        break"
   ]
  },
  {
   "cell_type": "code",
   "execution_count": 3,
   "id": "02add84b",
   "metadata": {},
   "outputs": [],
   "source": [
    "cam=cv.VideoCapture(0)\n",
    "while True:\n",
    "    _, img=cam.read()\n",
    "    edge_1=cv.Canny(img,100,200)\n",
    "    edge_2=cv.Canny(img,150,250)\n",
    "    cv.imshow(\"frame\",img)\n",
    "    cv.imshow(\"Edges-1\",edge_1)\n",
    "    cv.imshow(\"Edges-2\",edge_2)\n",
    "    key=cv.waitKey(10)\n",
    "    if(key==27):\n",
    "        cam.release()\n",
    "        break\n",
    "    "
   ]
  },
  {
   "cell_type": "code",
   "execution_count": 3,
   "id": "43855695",
   "metadata": {},
   "outputs": [],
   "source": [
    "cam=cv.VideoCapture(0)\n",
    "while True:\n",
    "    _, img=cam.read()\n",
    "    img=cv.flip(img,1)\n",
    "    blr_1=cv.blur(img,(2,2))\n",
    "    blr_2=cv.blur(img,(4,4))\n",
    "    blr_3 = cv.blur(img,(8,8)) \n",
    "    blr_4 = cv.blur(img,(16,16)) \n",
    "    blr_5 = cv.blur(img,(32,32)) \n",
    "    \n",
    "    cv.imshow(\"Frame\",img)\n",
    "    cv.imshow(\"BLUR_1\",blr_1)\n",
    "    cv.imshow(\"Blur-2\" , blr_2)\n",
    "    cv.imshow(\"Blur-3\" , blr_3)\n",
    "    cv.imshow(\"Blur-4\" , blr_4)\n",
    "    cv.imshow(\"Blur-5\" , blr_5)\n",
    "    \n",
    "    if cv.waitKey(10) == 27:\n",
    "        cam.release()\n",
    "        break"
   ]
  },
  {
   "cell_type": "code",
   "execution_count": 3,
   "id": "185cd169",
   "metadata": {
    "scrolled": true
   },
   "outputs": [],
   "source": [
    "cam=cv.VideoCapture(0)\n",
    "while True:\n",
    "    _, img=cam.read()\n",
    "    img=cv.flip(img,1)\n",
    "    resized_1=cv.resize(img,(int(img.shape[1]/2),int(img.shape[0]/2)))\n",
    "    resized_2=cv.resize(resized_1,(int(resized_1.shape[1]*4),int(resized_1.shape[0]*4)))\n",
    "    cv.imshow(\"Original\", img)\n",
    "    cv.imshow(\"Resized-1\", resized_1)\n",
    "    cv.imshow(\"upsacled\", resized_2)\n",
    "    \n",
    "    if cv.waitKey(10) == 27:\n",
    "        cam.release()\n",
    "        break"
   ]
  },
  {
   "cell_type": "code",
   "execution_count": 3,
   "id": "d3471984",
   "metadata": {},
   "outputs": [],
   "source": [
    "cam=cv.VideoCapture(0)\n",
    "while True:\n",
    "    _, img =cam.read()\n",
    "    img=cv.flip(img,1)\n",
    "    blr=cv.blur(img,(5,5))\n",
    "    edg=cv.Canny(img,0,50)\n",
    "    fin=cv.Canny(blr,0,50)\n",
    "    cv.imshow(\"Original\", img)\n",
    "    cv.imshow(\"Blur\"    , blr)\n",
    "    cv.imshow(\"Edges\"   , edg)\n",
    "    cv.imshow(\"Final\"   , fin)\n",
    "    \n",
    "    if cv.waitKey(10) == 27:\n",
    "        cam.release()\n",
    "        break"
   ]
  },
  {
   "cell_type": "code",
   "execution_count": null,
   "id": "209b0933",
   "metadata": {},
   "outputs": [],
   "source": []
  },
  {
   "cell_type": "code",
   "execution_count": null,
   "id": "6b2134ab",
   "metadata": {},
   "outputs": [],
   "source": []
  }
 ],
 "metadata": {
  "kernelspec": {
   "display_name": "Python 3 (ipykernel)",
   "language": "python",
   "name": "python3"
  },
  "language_info": {
   "codemirror_mode": {
    "name": "ipython",
    "version": 3
   },
   "file_extension": ".py",
   "mimetype": "text/x-python",
   "name": "python",
   "nbconvert_exporter": "python",
   "pygments_lexer": "ipython3",
   "version": "3.11.4"
  }
 },
 "nbformat": 4,
 "nbformat_minor": 5
}
